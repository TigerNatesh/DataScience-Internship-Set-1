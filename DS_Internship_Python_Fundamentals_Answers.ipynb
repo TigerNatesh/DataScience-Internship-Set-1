{
  "nbformat": 4,
  "nbformat_minor": 0,
  "metadata": {
    "colab": {
      "provenance": []
    },
    "kernelspec": {
      "name": "python3",
      "display_name": "Python 3"
    },
    "language_info": {
      "name": "python"
    }
  },
  "cells": [
    {
      "cell_type": "markdown",
      "source": [
        "**Question 1:**\n",
        "\n",
        "Write a program which takes 2 digits, X,Y as input and generates a 2-dimensional array.\n",
        "The element value in the i-th row and j-th column of the array should be i*j.\n",
        "Note: i=0,1.., X-1; j=0,1,¡­Y-1.\n"
      ],
      "metadata": {
        "id": "LWoHgHkPUCJp"
      }
    },
    {
      "cell_type": "code",
      "source": [
        "x = int(input(\"Enter X: \"))\n",
        "y = int(input(\"Enter Y: \"))\n",
        "arr = []\n",
        "for i in range(x):\n",
        "  arr.append([])\n",
        "  for j in range(y):\n",
        "    arr[i].append(i*j)\n",
        "\n",
        "print(arr)"
      ],
      "metadata": {
        "colab": {
          "base_uri": "https://localhost:8080/"
        },
        "id": "gJXCZU7WUDCO",
        "outputId": "b779bdc0-ca09-4459-9819-dabd77d8644f"
      },
      "execution_count": null,
      "outputs": [
        {
          "output_type": "stream",
          "name": "stdout",
          "text": [
            "Enter X: 3\n",
            "Enter Y: 5\n",
            "[[0, 0, 0, 0, 0], [0, 1, 2, 3, 4], [0, 2, 4, 6, 8]]\n"
          ]
        }
      ]
    },
    {
      "cell_type": "markdown",
      "source": [
        "**Question 2:**\n",
        "\n",
        "Write a program that accepts a comma separated sequence of words as input and prints the words in a comma-separated sequence after sorting them alphabetically.\n"
      ],
      "metadata": {
        "id": "eknk8fDHmbGv"
      }
    },
    {
      "cell_type": "code",
      "source": [
        "sentence = str(input(\"Enter your comma separated words : \"))\n",
        "words = sentence.split(\",\")\n",
        "words.sort()\n",
        "\n",
        "print(\",\".join(words))"
      ],
      "metadata": {
        "colab": {
          "base_uri": "https://localhost:8080/"
        },
        "id": "PpfHj8rwmaop",
        "outputId": "f01e902b-cc41-4ad4-9c10-4334c7f44527"
      },
      "execution_count": null,
      "outputs": [
        {
          "output_type": "stream",
          "name": "stdout",
          "text": [
            "Enter your comma separated words : without,hello,bag,world\n",
            "bag,hello,without,world\n"
          ]
        }
      ]
    },
    {
      "cell_type": "markdown",
      "source": [
        "**Question 3:**\n",
        "\n",
        "Write a program that accepts a sequence of whitespace separated words as input and prints the words after removing all duplicate words and sorting them alphanumerically.\n"
      ],
      "metadata": {
        "id": "_qU0b2YrouxY"
      }
    },
    {
      "cell_type": "code",
      "source": [
        "sentence = str(input(\"Enter your space separated words : \"))\n",
        "words = sentence.split(\" \")\n",
        "uniquewords = []\n",
        "for word in words:\n",
        "  if word not in uniquewords:\n",
        "    uniquewords.append(word)\n",
        "\n",
        "uniquewords.sort()\n",
        "\n",
        "print(\" \".join(uniquewords))"
      ],
      "metadata": {
        "colab": {
          "base_uri": "https://localhost:8080/"
        },
        "id": "11JeX2tgmwuk",
        "outputId": "0f477b4f-390e-4b9b-a8ec-da304c8ebe1c"
      },
      "execution_count": null,
      "outputs": [
        {
          "output_type": "stream",
          "name": "stdout",
          "text": [
            "Enter your space separated words : hello world and practice makes perfect and hello world again\n",
            "again and hello makes perfect practice world\n"
          ]
        }
      ]
    },
    {
      "cell_type": "markdown",
      "source": [
        "**Question 4:**\n",
        "\n",
        "Write a program, which will find all such numbers between 1000 and 3000 (both included) such that each digit of the number is an even number.\n"
      ],
      "metadata": {
        "id": "nKdUmIGK1XEs"
      }
    },
    {
      "cell_type": "code",
      "source": [
        "for i in range(1000,3001):\n",
        "  temp = i\n",
        "  flag = 0\n",
        "  while(temp!=0):\n",
        "    r = temp % 10\n",
        "    temp = temp // 10\n",
        "    if r%2 != 0:\n",
        "      flag = 1\n",
        "      break;\n",
        "  if flag == 0:\n",
        "    print(i,end =\",\")\n"
      ],
      "metadata": {
        "colab": {
          "base_uri": "https://localhost:8080/"
        },
        "id": "gp_VrFXq0elr",
        "outputId": "f9163aa3-74bc-40c8-dc50-c105582f6812"
      },
      "execution_count": null,
      "outputs": [
        {
          "output_type": "stream",
          "name": "stdout",
          "text": [
            "2000,2002,2004,2006,2008,2020,2022,2024,2026,2028,2040,2042,2044,2046,2048,2060,2062,2064,2066,2068,2080,2082,2084,2086,2088,2200,2202,2204,2206,2208,2220,2222,2224,2226,2228,2240,2242,2244,2246,2248,2260,2262,2264,2266,2268,2280,2282,2284,2286,2288,2400,2402,2404,2406,2408,2420,2422,2424,2426,2428,2440,2442,2444,2446,2448,2460,2462,2464,2466,2468,2480,2482,2484,2486,2488,2600,2602,2604,2606,2608,2620,2622,2624,2626,2628,2640,2642,2644,2646,2648,2660,2662,2664,2666,2668,2680,2682,2684,2686,2688,2800,2802,2804,2806,2808,2820,2822,2824,2826,2828,2840,2842,2844,2846,2848,2860,2862,2864,2866,2868,2880,2882,2884,2886,2888,"
          ]
        }
      ]
    },
    {
      "cell_type": "markdown",
      "source": [
        "**Question 5:**\n",
        "\n",
        "Write a program that accepts a sentence and calculate the number of letters and digits.\n"
      ],
      "metadata": {
        "id": "bNiU_11644Ow"
      }
    },
    {
      "cell_type": "code",
      "source": [
        "import string\n",
        "\n",
        "sentence = str(input(\"Enter your sentence : \"))\n",
        "alpha = list(string.ascii_letters)\n",
        "numeric = ['0','1','2','3','4','5','6','7','8','9']\n",
        "count_alpha = 0\n",
        "count_numeric = 0\n",
        "count_symbol = 0\n",
        "for chara in sentence:\n",
        "  if chara in alpha:\n",
        "    count_alpha+=1\n",
        "  elif chara in numeric:\n",
        "    count_numeric+=1\n",
        "  elif chara != ' ':\n",
        "    count_symbol+=1\n",
        "print(\" --------- \")\n",
        "print(\" LETTERS : \", count_alpha)\n",
        "print(\" NUMBERS : \", count_numeric)\n",
        "print(\" SYMBOLS : \", count_symbol)\n",
        "print(\" --------- \")"
      ],
      "metadata": {
        "colab": {
          "base_uri": "https://localhost:8080/"
        },
        "id": "eboTW0qs2ia7",
        "outputId": "6df0b12e-8773-44c3-dea7-5286e7db7a56"
      },
      "execution_count": null,
      "outputs": [
        {
          "output_type": "stream",
          "name": "stdout",
          "text": [
            "Enter your sentence : hello world! 123\n",
            " --------- \n",
            " LETTERS :  10\n",
            " NUMBERS :  3\n",
            " SYMBOLS :  1\n",
            " --------- \n"
          ]
        }
      ]
    },
    {
      "cell_type": "markdown",
      "source": [
        "**Question 6:**\n",
        "\n",
        "Write a program that accepts a sentence and calculate the number of upper case letters and lower case letters\n"
      ],
      "metadata": {
        "id": "f8SeigYs6nhk"
      }
    },
    {
      "cell_type": "code",
      "source": [
        "import string\n",
        "\n",
        "sentence = str(input(\"Enter your sentence : \"))\n",
        "lower_alpha = list(string.ascii_lowercase)\n",
        "upper_alpha = list(string.ascii_uppercase)\n",
        "\n",
        "count_upper = 0\n",
        "count_lower = 0\n",
        "\n",
        "for chara in sentence:\n",
        "  if chara in upper_alpha:\n",
        "    count_upper+=1\n",
        "  elif chara in lower_alpha:\n",
        "    count_lower+=1\n",
        "\n",
        "print(\" --------- \")\n",
        "print(\" UPPER : \", count_upper)\n",
        "print(\" LOWER : \", count_lower)\n",
        "print(\" --------- \")"
      ],
      "metadata": {
        "colab": {
          "base_uri": "https://localhost:8080/"
        },
        "id": "2eocvxTc5dBK",
        "outputId": "0c2da5e7-7b55-4ed6-b5f9-dfac104b201e"
      },
      "execution_count": null,
      "outputs": [
        {
          "output_type": "stream",
          "name": "stdout",
          "text": [
            "Enter your sentence : Hello world!\n",
            " --------- \n",
            " UPPER :  1\n",
            " LOWER :  9\n",
            " --------- \n"
          ]
        }
      ]
    },
    {
      "cell_type": "markdown",
      "source": [
        "**Question 7:**\n",
        "\n",
        "Write a program that computes the net amount of a bank account based a transaction log from console input. The transaction log format is shown as following:\n",
        "\n",
        "D 100\n",
        "\n",
        "W 200\n",
        "\n",
        "D means deposit while W means withdrawal.\n"
      ],
      "metadata": {
        "id": "aZc4Mhob8IF2"
      }
    },
    {
      "cell_type": "code",
      "source": [
        "log = 'A'\n",
        "amount = 0\n",
        "while(log!= 'Q'):\n",
        "  log = str(input(\"Enter Transaction : \"))\n",
        "  if log[0] == 'D':\n",
        "    amount = amount + int(log.split(\" \")[-1])\n",
        "  elif log[0] == 'W':\n",
        "    amount = amount - int(log.split(\" \")[-1])\n",
        "print(amount)"
      ],
      "metadata": {
        "colab": {
          "base_uri": "https://localhost:8080/"
        },
        "id": "bWFiblJq61iq",
        "outputId": "0b991e58-72cd-4988-cc48-5c2a9ec6f3db"
      },
      "execution_count": null,
      "outputs": [
        {
          "output_type": "stream",
          "name": "stdout",
          "text": [
            "Enter Transaction : D 300\n",
            "Enter Transaction : D 300\n",
            "Enter Transaction : W 200\n",
            "Enter Transaction : D 100\n",
            "Enter Transaction : Q\n",
            "500\n"
          ]
        }
      ]
    },
    {
      "cell_type": "markdown",
      "source": [
        "**Question 8:**\n",
        "\n",
        "A website requires the users to input username and password to register. Write a program to check the validity of password input by users.\n",
        "Following are the criteria for checking the password:\n",
        "1. At least 1 letter between [a-z]\n",
        "2. At least 1 number between [0-9]\n",
        "1. At least 1 letter between [A-Z]\n",
        "3. At least 1 character from [$#@]\n",
        "4. Minimum length of transaction password: 6\n",
        "5. Maximum length of transaction password: 12\n",
        "\n",
        "Passwords that match the criteria are to be printed, each separated by a comma.\n"
      ],
      "metadata": {
        "id": "jaBmdiVDAXuD"
      }
    },
    {
      "cell_type": "code",
      "source": [
        "numeric = ['0','1','2','3','4','5','6','7','8','9']\n",
        "lower_alpha = list(string.ascii_lowercase)\n",
        "upper_alpha = list(string.ascii_uppercase)\n",
        "symbols = ['$','#','@']\n",
        "passwords = str(input(\" Give passwords: \"))\n",
        "passwords = passwords.split(\",\")\n",
        "\n",
        "def check_password_validity(password):\n",
        "    if 6 <= len(password) <= 12:\n",
        "        has_lower = False\n",
        "        has_upper = False\n",
        "        has_digit = False\n",
        "        has_special = False\n",
        "\n",
        "        for char in password:\n",
        "            if char in lower_alpha:\n",
        "                has_lower = True\n",
        "            elif char in upper_alpha:\n",
        "                has_upper = True\n",
        "            elif char in numeric:\n",
        "                has_digit = True\n",
        "            elif char in symbols:\n",
        "                has_special = True\n",
        "\n",
        "        if has_lower and has_upper and has_digit and has_special:\n",
        "            return True\n",
        "\n",
        "    return False\n",
        "\n",
        "validpass = []\n",
        "\n",
        "for i in range(len(passwords)):\n",
        "  if(check_password_validity(passwords[i])):\n",
        "    validpass.append(passwords[i])\n",
        "\n",
        "print(validpass)"
      ],
      "metadata": {
        "colab": {
          "base_uri": "https://localhost:8080/"
        },
        "id": "mB4qkOpQ_RaS",
        "outputId": "8a8bb308-8979-40c1-b75c-d1464deb0c03"
      },
      "execution_count": null,
      "outputs": [
        {
          "output_type": "stream",
          "name": "stdout",
          "text": [
            " Give passwords: ABd1234@1,aF1#,2w3E*,2We3345,test123,abcdABCD1234#,$#@@123Ab\n",
            "['ABd1234@1', '$#@@123Ab']\n"
          ]
        }
      ]
    },
    {
      "cell_type": "markdown",
      "source": [
        "**Question 9:**\n",
        "\n",
        "You are required to write a program to sort the (name, age, height) tuples by ascending order where name is string, age and height are numbers. The tuples are input by console. The sort criteria is:\n",
        "\n",
        "1: Sort based on name\n",
        "\n",
        "2: Then sort based on age\n",
        "\n",
        "3: Then sort by score.\n",
        "\n",
        "The priority is that name > age > score.\n"
      ],
      "metadata": {
        "id": "eaJGiMaoFXu0"
      }
    },
    {
      "cell_type": "code",
      "source": [
        "person = \" \"\n",
        "database = []\n",
        "while(person != \"\"):\n",
        "  person = input(\"Enter the data: \")\n",
        "  database.append(person)\n",
        "tupledata = []\n",
        "for data in database:\n",
        "  data = data.split(\",\")\n",
        "  tupledata.append(tuple(data))\n",
        "\n",
        "tupledata = tupledata[:-1]\n",
        "tupledata = sorted(tupledata, key = lambda x: x[0])\n",
        "tupledata = sorted(tupledata, key = lambda x: x[1])\n",
        "tupledata = sorted(tupledata, key = lambda x: x[2])\n",
        "tupledata\n",
        "\n",
        "# Tom,19,80\n",
        "# John,20,90\n",
        "# Jony,17,91\n",
        "# Jony,17,93\n",
        "# Json,21,85"
      ],
      "metadata": {
        "colab": {
          "base_uri": "https://localhost:8080/"
        },
        "id": "SLVmLGuDA_eC",
        "outputId": "61a6e097-a612-4038-b2f7-0377a1743ae5"
      },
      "execution_count": null,
      "outputs": [
        {
          "name": "stdout",
          "output_type": "stream",
          "text": [
            "Enter the data: Tom,19,80\n",
            "Enter the data: John,20,90\n",
            "Enter the data: Jony,17,91\n",
            "Enter the data: Jony,17,93\n",
            "Enter the data: Json,21,85\n",
            "Enter the data: \n"
          ]
        },
        {
          "output_type": "execute_result",
          "data": {
            "text/plain": [
              "[('John', '20', '90'),\n",
              " ('Jony', '17', '91'),\n",
              " ('Jony', '17', '93'),\n",
              " ('Json', '21', '85'),\n",
              " ('Tom', '19', '80')]"
            ]
          },
          "metadata": {},
          "execution_count": 55
        }
      ]
    },
    {
      "cell_type": "markdown",
      "source": [
        "**Question 10:**\n",
        "\n",
        "A robot moves in a plane starting from the original point (0,0). The robot can move toward UP, DOWN, LEFT and RIGHT with a given steps.\n",
        "The numbers after the direction are steps.\n",
        "The trace of robot movement\n"
      ],
      "metadata": {
        "id": "-DwsR-IIWsvo"
      }
    },
    {
      "cell_type": "code",
      "source": [
        "import math\n",
        "move = \" \"\n",
        "database = []\n",
        "x = 0\n",
        "y = 0\n",
        "\n",
        "while(move != \"\"):\n",
        "  move = input(\"Enter ur move: \")\n",
        "  database.append(move)\n",
        "  command = move.split(\" \")\n",
        "  if command[0] == \"UP\":\n",
        "    x = x + int(command[1])\n",
        "  elif command[0] == \"DOWN\":\n",
        "    x = x - int(command[1])\n",
        "  elif command[0] == \"LEFT\":\n",
        "    y = y - int(command[1])\n",
        "  elif command[0] == \"RIGHT\":\n",
        "    y = y + int(command[1])\n",
        "\n",
        "print(\"New Co-ordinates: \",(x,y))\n",
        "print(\"Distance : \", math.sqrt(x**2 + y**2))"
      ],
      "metadata": {
        "colab": {
          "base_uri": "https://localhost:8080/"
        },
        "id": "3aGTNf8LFZDo",
        "outputId": "41cbf327-dc81-481e-dfb6-2baf767ef0df"
      },
      "execution_count": null,
      "outputs": [
        {
          "output_type": "stream",
          "name": "stdout",
          "text": [
            "Enter ur move: UP 5\n",
            "Enter ur move: DOWN 3\n",
            "Enter ur move: LEFT 3\n",
            "Enter ur move: RIGHT 2\n",
            "Enter ur move: \n",
            "New Co-ordinates:  (2, -1)\n",
            "Distance :  2.23606797749979\n"
          ]
        }
      ]
    },
    {
      "cell_type": "markdown",
      "source": [
        "**Question 11:**\n",
        "\n",
        "Find the continuous occurrence of the string.\n"
      ],
      "metadata": {
        "id": "CDgOYaO4ZxhO"
      }
    },
    {
      "cell_type": "code",
      "source": [
        "sentence = str(input(\"Enter reoccuring string : \"))\n",
        "prevchar = ''\n",
        "sentence = sentence + ' '\n",
        "data = []\n",
        "count = 0\n",
        "for char in sentence:\n",
        "  if char==prevchar:\n",
        "    count+=1\n",
        "  else:\n",
        "    count+=1\n",
        "    data.append((prevchar,count))\n",
        "    prevchar = char\n",
        "    count = 0\n",
        "data.pop(0)\n",
        "for i in data:\n",
        "  print(i[0] + str(i[1]),end=\"\")"
      ],
      "metadata": {
        "colab": {
          "base_uri": "https://localhost:8080/"
        },
        "id": "jMSYeWcQYZVv",
        "outputId": "e3a0c047-d06a-42d6-fe09-c6082e0adda2"
      },
      "execution_count": null,
      "outputs": [
        {
          "output_type": "stream",
          "name": "stdout",
          "text": [
            "Enter reoccuring string : aabbcdeefffaabbcc\n",
            "a2b2c1d1e2f3a2b2c2"
          ]
        }
      ]
    },
    {
      "cell_type": "markdown",
      "source": [
        "**Question 12:**\n",
        "\n",
        "Find the pair of alphabets in an alphanumeric string whose sum of numbers in between is always 9\n"
      ],
      "metadata": {
        "id": "dV66wb4ZbwYr"
      }
    },
    {
      "cell_type": "code",
      "source": [
        "alpha = list(string.ascii_letters)\n",
        "numeric = ['0','1','2','3','4','5','6','7','8','9']\n",
        "sentence = str(input(\"Enter the string : \"))\n",
        "sum = 0\n",
        "start = ''\n",
        "end = ''\n",
        "for i in range(len(sentence)):\n",
        "  if sentence[i] in alpha:\n",
        "    start = sentence[i]\n",
        "    sum = 0\n",
        "    for j in range(i+1,len(sentence)):\n",
        "      if sentence[j] in alpha:\n",
        "        end = sentence[j]\n",
        "        if sum == 9:\n",
        "          print((start,end))\n",
        "        sum = 0\n",
        "        break\n",
        "      else:\n",
        "        sum = sum + int(sentence[j])\n"
      ],
      "metadata": {
        "colab": {
          "base_uri": "https://localhost:8080/"
        },
        "id": "LIV1J4rHaqeX",
        "outputId": "2dba910c-588c-4aa2-d1c2-6837359c8052"
      },
      "execution_count": null,
      "outputs": [
        {
          "output_type": "stream",
          "name": "stdout",
          "text": [
            "Enter the string : a55b234cd9f63de54x3m\n",
            "('b', 'c')\n",
            "('d', 'f')\n",
            "('f', 'd')\n",
            "('e', 'x')\n"
          ]
        }
      ]
    },
    {
      "cell_type": "markdown",
      "source": [
        "**Question 13:**\n",
        "\n",
        "Find how many pairs in a binary number that starts and ends with 1\n"
      ],
      "metadata": {
        "id": "8OksfgDN1rtu"
      }
    },
    {
      "cell_type": "code",
      "source": [
        "num = str(input(\"Enter a binary number : \"))\n",
        "database = []\n",
        "for i in range(len(num)):\n",
        "  if num[i] == '1':\n",
        "    for j in range(i,len(num)):\n",
        "      if num[j] == '1':\n",
        "        if num[i:j+1] not in database:\n",
        "          database.append(num[i:j+1])\n",
        "\n",
        "print(len(database))\n",
        "print(database)"
      ],
      "metadata": {
        "colab": {
          "base_uri": "https://localhost:8080/"
        },
        "id": "aWiS1MzL0mLT",
        "outputId": "0987e3cd-957b-443b-f4b3-79b822e9018f"
      },
      "execution_count": null,
      "outputs": [
        {
          "output_type": "stream",
          "name": "stdout",
          "text": [
            "Enter a binary number : 100101\n",
            "4\n",
            "['1', '1001', '100101', '101']\n"
          ]
        }
      ]
    },
    {
      "cell_type": "markdown",
      "source": [
        "**Question 14:**\n",
        "\n",
        "Find the minimum possible denominations for given valid currency.\n",
        "(No of currencies used should be minimum)\n"
      ],
      "metadata": {
        "id": "NxP1qGDcl9Om"
      }
    },
    {
      "cell_type": "code",
      "source": [
        "\n",
        "validcurrency = input(\"Enter denominations separated by spaces: \")\n",
        "validcurrency = validcurrency.split(\",\")\n",
        "validcurrency = [int(element) for element in validcurrency]\n",
        "\n",
        "money = int(input(\"Enter money : \"))\n",
        "\n",
        "validcurrency.sort(reverse=True)\n",
        "\n",
        "min_denominations = {}\n",
        "for denomination in validcurrency:\n",
        "      count = money // denomination\n",
        "      money %= denomination\n",
        "      if count > 0:\n",
        "          min_denominations[denomination] = count\n",
        "\n",
        "print(min_denominations)\n",
        "\n",
        "\n"
      ],
      "metadata": {
        "id": "Ctho0NUO2EIm",
        "colab": {
          "base_uri": "https://localhost:8080/"
        },
        "outputId": "9fd50739-9b2b-4439-8cdb-d9c79d505f55"
      },
      "execution_count": null,
      "outputs": [
        {
          "output_type": "stream",
          "name": "stdout",
          "text": [
            "Enter denominations separated by spaces: 1,2,5,10,20,50,100,200,500\n",
            "Enter money : 556\n",
            "{500: 1, 50: 1, 5: 1, 1: 1}\n"
          ]
        }
      ]
    },
    {
      "cell_type": "markdown",
      "source": [
        "**Question 15:**\n",
        "\n",
        "There is a bus travelling from Town A to Town B. There are n stops between them and bus has to make m stops.\n",
        "Find the numbery of ways in the travel so that no stop is consecutive\n"
      ],
      "metadata": {
        "id": "ugs1pRaqN-LK"
      }
    },
    {
      "cell_type": "code",
      "source": [
        "m = int(input(\"Enter number of stops to take : \"))\n",
        "n = int(input(\"Enter number of stops in total : \"))\n",
        "from math import comb\n",
        "\n",
        "def count_ways_with_restrictions(n, m):\n",
        "    if n < m:\n",
        "        return 0\n",
        "    non_consecutive_positions = n - m + 1\n",
        "    ways = comb(non_consecutive_positions, m)\n",
        "\n",
        "    return ways\n",
        "\n",
        "\n",
        "ways = count_ways_with_restrictions(n, m)\n",
        "print(\"Number of ways:\", ways)\n",
        "\n"
      ],
      "metadata": {
        "colab": {
          "base_uri": "https://localhost:8080/"
        },
        "id": "zEWjDtN7l_3B",
        "outputId": "66b9af92-5aa2-46cd-a430-3fd4706096ae"
      },
      "execution_count": null,
      "outputs": [
        {
          "output_type": "stream",
          "name": "stdout",
          "text": [
            "Enter number of stops to take : 4\n",
            "Enter number of stops in total : 12\n",
            "Number of ways: 126\n"
          ]
        }
      ]
    },
    {
      "cell_type": "markdown",
      "source": [
        "**Question 16:**\n",
        "\n",
        "A gaming company wants to create an App with multiple games.\n",
        "The instruction of the games is given. You are asked to write the code to prepare the games,\n",
        "Where inputs will be taken from users. Once the gaming algorithm is prepared then it can be associated with production interface of the App.\n",
        "\n",
        "Game: Stone Paper Scissor Cut\n",
        "\n",
        "Each win of a player will be counted as a one point for the player.\n",
        "The game continues until any of the player scores 5.\n"
      ],
      "metadata": {
        "id": "xh5sg8_IVkZx"
      }
    },
    {
      "cell_type": "code",
      "source": [
        "p1score = 0\n",
        "p2score = 0\n",
        "\n",
        "p1cmd = ''\n",
        "p2cmd = ''\n",
        "\n",
        "while(p1score < 5 and p2score < 5):\n",
        "  p1cmd = input(\"Enter P1 command : \")\n",
        "  p2cmd = input(\"Enter P2 command : \")\n",
        "\n",
        "  if p1cmd == p2cmd:\n",
        "    print(\"DRAW\")\n",
        "  elif ((p1cmd == \"Stone\" and p2cmd == \"Paper\") or (p1cmd == \"Paper\" and p2cmd == \"Scissor\") or (p1cmd == \"Scissor\" and p2cmd == \"Stone\")):\n",
        "    print(\"P2 Wins\")\n",
        "    p2score+=1\n",
        "  elif ((p2cmd == \"Stone\" and p1cmd == \"Paper\") or (p2cmd == \"Paper\" and p1cmd == \"Scissor\") or (p2cmd == \"Scissor\" and p1cmd == \"Stone\")):\n",
        "    print(\"P1 Wins\")\n",
        "    p1score+=1\n",
        "\n",
        "print(\"Game Over scores: \",(p1score,p2score))\n",
        "\n"
      ],
      "metadata": {
        "colab": {
          "base_uri": "https://localhost:8080/"
        },
        "id": "mF9DMXYzNNbD",
        "outputId": "beea1ab4-ca79-4437-b928-81e59d76602b"
      },
      "execution_count": null,
      "outputs": [
        {
          "output_type": "stream",
          "name": "stdout",
          "text": [
            "Enter P1 command : Paper\n",
            "Enter P2 command : Paper\n",
            "DRAW\n",
            "Enter P1 command : Paper\n",
            "Enter P2 command : Scissor\n",
            "P2 Wins\n",
            "Enter P1 command : Paper\n",
            "Enter P2 command : Stone\n",
            "P1 Wins\n",
            "Enter P1 command : Paper\n",
            "Enter P2 command : Stone\n",
            "P1 Wins\n",
            "Enter P1 command : Paper\n",
            "Enter P2 command : Stone\n",
            "P1 Wins\n",
            "Enter P1 command : Paper\n",
            "Enter P2 command : Stone\n",
            "P1 Wins\n",
            "Enter P1 command : Paper\n",
            "Enter P2 command : Stone\n",
            "P1 Wins\n",
            "Game Over scores:  (5, 1)\n"
          ]
        }
      ]
    },
    {
      "cell_type": "markdown",
      "source": [
        "**Question 17:**\n",
        "\n",
        "Validate Email Address:\n",
        "\n",
        "     a. Check for '@' symbol, it should be only 1\n",
        "     b. Only lower-case letters are allowed\n",
        "     c. Numbers are allowed\n",
        "     e. No symbols allowed other than '.' & '_'\n"
      ],
      "metadata": {
        "id": "wwqcUpLPYaZJ"
      }
    },
    {
      "cell_type": "code",
      "source": [
        "import string\n",
        "\n",
        "email = input(\"Enter your email : \")\n",
        "countat = 0\n",
        "alphanum = list(string.ascii_lowercase) + [0,1,2,3,4,5,6,7,8,9] + ['.','_','@']\n",
        "for char in email:\n",
        "  if char not in alphanum:\n",
        "    print(\"Invalid Email\")\n",
        "  if char == \"@\":\n",
        "    countat+=1\n",
        "\n",
        "if countat > 1:\n",
        "  print(\"Invalid Email\")\n",
        "else:\n",
        "  print(\"Valid Email\")"
      ],
      "metadata": {
        "colab": {
          "base_uri": "https://localhost:8080/"
        },
        "id": "AsXTKEH5YJea",
        "outputId": "76349c27-2d88-4cc0-cc87-73478015cc92"
      },
      "execution_count": null,
      "outputs": [
        {
          "output_type": "stream",
          "name": "stdout",
          "text": [
            "Enter your email : natesh.subramani@tigeranalytics.com\n",
            "Valid Email\n"
          ]
        }
      ]
    },
    {
      "cell_type": "markdown",
      "source": [
        "**Question 18:**\n",
        "\n",
        "Solve the following patterns\n"
      ],
      "metadata": {
        "id": "yII-ujpSaJFQ"
      }
    },
    {
      "cell_type": "code",
      "source": [
        "num = 1\n",
        "row = int(input(\"Enter rows : \"))\n",
        "for i in range(1,row+1):\n",
        "  for j in range(i):\n",
        "    print(num,end =\"\")\n",
        "    num+=1\n",
        "    if j+1 != i:\n",
        "      print(\"*\",end=\"\")\n",
        "  print()"
      ],
      "metadata": {
        "colab": {
          "base_uri": "https://localhost:8080/"
        },
        "id": "C3RKAvAtZ6o-",
        "outputId": "c179f881-7b68-4084-8d62-3ac15f87da47"
      },
      "execution_count": null,
      "outputs": [
        {
          "output_type": "stream",
          "name": "stdout",
          "text": [
            "Enter rows : 4\n",
            "1\n",
            "2*3\n",
            "4*5*6\n",
            "7*8*9*10\n"
          ]
        }
      ]
    },
    {
      "cell_type": "code",
      "source": [
        "def generate_pattern(rows):\n",
        "    for i in range(1, rows + 1):\n",
        "        print(\" \" * (rows - i) + \"* \" * i)\n",
        "\n",
        "    for i in range(rows - 1, 0, -1):\n",
        "        print(\" \" * (rows - i) + \"* \" * i)\n",
        "\n",
        "rows = int(input(\"Enter rows : \"))\n",
        "generate_pattern(rows)"
      ],
      "metadata": {
        "colab": {
          "base_uri": "https://localhost:8080/"
        },
        "id": "k8t0pz4WbIgc",
        "outputId": "e8bf91ab-9b4a-4c82-c388-bbdf0b41f58f"
      },
      "execution_count": null,
      "outputs": [
        {
          "output_type": "stream",
          "name": "stdout",
          "text": [
            "Enter rows : 5\n",
            "    * \n",
            "   * * \n",
            "  * * * \n",
            " * * * * \n",
            "* * * * * \n",
            " * * * * \n",
            "  * * * \n",
            "   * * \n",
            "    * \n"
          ]
        }
      ]
    },
    {
      "cell_type": "code",
      "source": [
        "rows = int(input(\"Enter rows : \"))\n",
        "num = 1\n",
        "for i in range(1,rows+1):\n",
        "    for j in range(i):\n",
        "      print(num,end =\"\")\n",
        "      num+=1\n",
        "      if j+1 != i:\n",
        "        print(\"*\",end=\"\")\n",
        "    print()\n",
        "num=num-rows-1\n",
        "for i in range(rows-1,1,-1):\n",
        "      for j in range(i):\n",
        "        print(num,end =\"\")\n",
        "        num-=1\n",
        "        if j+1 != i:\n",
        "          print(\"*\",end=\"\")\n",
        "      print()\n",
        "print(1)"
      ],
      "metadata": {
        "colab": {
          "base_uri": "https://localhost:8080/"
        },
        "id": "Xzy-dVn9aNcR",
        "outputId": "ec3a3a97-7490-43da-f332-aad458ba3164"
      },
      "execution_count": null,
      "outputs": [
        {
          "output_type": "stream",
          "name": "stdout",
          "text": [
            "Enter rows : 5\n",
            "1\n",
            "2*3\n",
            "4*5*6\n",
            "7*8*9*10\n",
            "11*12*13*14*15\n",
            "10*9*8*7\n",
            "6*5*4\n",
            "3*2\n",
            "1\n"
          ]
        }
      ]
    },
    {
      "cell_type": "code",
      "source": [
        "rows = int(input(\"Enter the number of rows: \"))\n",
        "pattern = [\n",
        "        \" ***** \",\n",
        "        \"*       \",\n",
        "        \"*       \",\n",
        "        \"*   *** \",\n",
        "        \"*     * \",\n",
        "        \"*     * \",\n",
        "        \" ***** \"\n",
        "    ]\n",
        "for i in range(rows):\n",
        "  print(pattern[i])\n",
        "\n"
      ],
      "metadata": {
        "colab": {
          "base_uri": "https://localhost:8080/"
        },
        "id": "Nc7UsFCEhiIC",
        "outputId": "ad8e5500-d659-48ce-b377-26a132179e81"
      },
      "execution_count": null,
      "outputs": [
        {
          "output_type": "stream",
          "name": "stdout",
          "text": [
            "Enter the number of rows: 7\n",
            " ***** \n",
            "*       \n",
            "*       \n",
            "*   *** \n",
            "*     * \n",
            "*     * \n",
            " ***** \n"
          ]
        }
      ]
    },
    {
      "cell_type": "code",
      "source": [
        "rows = int(input(\"Enter the number of rows: \"))\n",
        "arr = []\n",
        "if rows%2 == 0:\n",
        "  print(\"Enter odd rows: \")\n",
        "else:\n",
        "  mid = (rows // 2)\n",
        "  for i in range(rows):\n",
        "    arr.append([])\n",
        "    for j in range(rows):\n",
        "      if(i==0):\n",
        "        arr[i].append(1)\n",
        "      elif(i==rows-1):\n",
        "        arr[i].append(1)\n",
        "      elif(j==mid):\n",
        "        arr[i].append(1)\n",
        "      else:\n",
        "        arr[i].append(0)\n",
        "for row in arr:\n",
        "      for element in row:\n",
        "          print(element, end=\" \")\n",
        "      print()"
      ],
      "metadata": {
        "colab": {
          "base_uri": "https://localhost:8080/"
        },
        "id": "vHHHGkD9iZku",
        "outputId": "1ead61f2-4b77-4e64-fafc-828a9f7d96c3"
      },
      "execution_count": null,
      "outputs": [
        {
          "output_type": "stream",
          "name": "stdout",
          "text": [
            "Enter the number of rows: 5\n",
            "1 1 1 1 1 \n",
            "0 0 1 0 0 \n",
            "0 0 1 0 0 \n",
            "0 0 1 0 0 \n",
            "1 1 1 1 1 \n"
          ]
        }
      ]
    },
    {
      "cell_type": "markdown",
      "source": [
        "**Question 19:**\n",
        "\n",
        "Cyclic rotation:\n",
        "\n",
        "Case 1: first element moves to last and rest all the elements move one step to left\n",
        "Case 2: last element moves to first and rest all the element move  one step to right\n",
        "\n",
        "Input 1 Description: 1 - first to last  2- last to first\n",
        "\n",
        "Input 2 Description : string\n",
        "\n",
        "Input 3 Description : no of times\n"
      ],
      "metadata": {
        "id": "czLStMQKr0Ke"
      }
    },
    {
      "cell_type": "code",
      "source": [
        "cases = int(input(\"\"\"\n",
        "Case 1: first element moves to last and rest all the elements move one step to left\n",
        "Case 2: last element moves to first and rest all the element move one step to right\n",
        "\"\"\"))\n",
        "\n",
        "sentence = str(input(\"Enter ur word : \"))\n",
        "\n",
        "skip = int(input(\"No. of times \"))\n",
        "\n",
        "if cases == 1:\n",
        "  for i in range(skip):\n",
        "    temp = sentence[0]\n",
        "    sentence = sentence[1:]\n",
        "    sentence = sentence + temp\n",
        "  print(sentence)\n",
        "elif cases == 2:\n",
        "  for i in range(skip):\n",
        "    temp = sentence[-1]\n",
        "    sentence = sentence[:-1]\n",
        "    sentence = temp + sentence\n",
        "  print(sentence)\n",
        "else:\n",
        "  print(sentence)"
      ],
      "metadata": {
        "colab": {
          "base_uri": "https://localhost:8080/"
        },
        "id": "wsBAu1wlr1Sk",
        "outputId": "53a5e14b-fd38-410a-a69e-84993679eec7"
      },
      "execution_count": null,
      "outputs": [
        {
          "output_type": "stream",
          "name": "stdout",
          "text": [
            "\n",
            "Case 1: first element moves to last and rest all the elements move one step to left\n",
            "Case 2: last element moves to first and rest all the element move one step to right\n",
            "2\n",
            "Enter ur word : happy\n",
            "No. of times 2\n",
            "pyhap\n"
          ]
        }
      ]
    },
    {
      "cell_type": "markdown",
      "source": [
        "**Question 20:**\n",
        "\n",
        "In a pathology lab test, there are n number of samples for testing the health condition of a patient,\n",
        "each slide has 5 components, Sugar level, Blood pressure, Heartbeat rate, weight and fat percentage,\n",
        "based on input as provided by the patient's blood report.\n",
        "\n",
        "1. Create a sample input for a healthy patient as follows:\n",
        "\n",
        "\"Sugar level\":15, \"Blood pressure\":32, \"Heartbeat rate\":71, \"weight\":65, \"fat percentage\":10.\n",
        "\n",
        "2. Get values from the user and compare inputs with healthy patient data. If the patient data is not matching with the healthy\n",
        "patient’s data, provide a warning.\n",
        "\n",
        "3. Provide difference in readings to the patient.\n"
      ],
      "metadata": {
        "id": "QfC4J6cgufR3"
      }
    },
    {
      "cell_type": "code",
      "source": [
        "healthy = {\"Sugar level\":15, \"Blood pressure\":32, \"Heartbeat rate\":71, \"weight\":65, \"fat percentage\":10}\n",
        "sugar = int(input(\"Enter Sugar Levels please : \"))\n",
        "bp = int(input(\"Enter Blood Pressure please : \"))\n",
        "hr = int(input(\"Enter Heartbeat Rate please : \"))\n",
        "w = int(input(\"Enter Weight please : \"))\n",
        "fp = int(input(\"Enter Fat Percentage please : \"))\n",
        "\n",
        "patient = {}\n",
        "patient[\"Sugar Level\"] = healthy[\"Sugar level\"] - sugar\n",
        "patient[\"Blood pressure\"] = healthy[\"Blood pressure\"] - bp\n",
        "patient[\"Heartbeat rate\"] = healthy[\"Heartbeat rate\"] - hr\n",
        "patient[\"weight\"] = healthy[\"weight\"] - w\n",
        "patient[\"fat percentage\"] = healthy[\"fat percentage\"] - fp\n",
        "\n",
        "print(patient)\n",
        "\n",
        "def inference(num):\n",
        "  if num>0:\n",
        "    return \"more\"\n",
        "  else:\n",
        "    return \"less\"\n",
        "\n",
        "print(\"Sugar level is {} {} than the ideal value\".format(inference(patient['Sugar Level']),abs(patient['Sugar Level'])))\n",
        "print(\"Blood pressure is {} {} than the ideal value\".format(inference(patient['Blood pressure']),abs(patient['Blood pressure'])))\n",
        "print(\"Heartbeat rate is {} {} than the ideal value\".format(inference(patient['Heartbeat rate']),abs(patient['Heartbeat rate'])))\n",
        "print(\"Weight is {} {} than the ideal value\".format(inference(patient['weight']),abs(patient['weight'])))\n",
        "print(\"Fat percentage is {} {} than the ideal value\".format(inference(patient['fat percentage']),abs(patient['fat percentage'])))"
      ],
      "metadata": {
        "id": "VbDvkEFYuhFz",
        "colab": {
          "base_uri": "https://localhost:8080/"
        },
        "outputId": "5c88e51e-1f28-4fb3-ee28-f1cc7f3e0cc2"
      },
      "execution_count": null,
      "outputs": [
        {
          "output_type": "stream",
          "name": "stdout",
          "text": [
            "Enter Sugar Levels please : 56\n",
            "Enter Blood Pressure please : 120\n",
            "Enter Heartbeat Rate please : 45\n",
            "Enter Weight please : 67\n",
            "Enter Fat Percentage please : 67\n",
            "{'Sugar Level': -41, 'Blood pressure': -88, 'Heartbeat rate': 26, 'weight': -2, 'fat percentage': -57}\n",
            "Sugar level is less 41 than the ideal value\n",
            "Blood pressure is less 88 than the ideal value\n",
            "Heartbeat rate is more 26 than the ideal value\n",
            "Weight is less 2 than the ideal value\n",
            "Fat percentage is less 57 than the ideal value\n"
          ]
        }
      ]
    },
    {
      "cell_type": "markdown",
      "source": [
        "**Question 21:**\n",
        "\n",
        "Check whether the given number is Armstrong number or not\n",
        "Armstrong number: 153 => 1^3+5^3+3^3=153 (If summing each digit to the power of number of digits results to the same number then it is a Armstrong number)\n",
        "\n",
        "1634 => 1^4+6^4+3^4+4^4 =1634         1^4 => digit^(number of digits)\n"
      ],
      "metadata": {
        "id": "uRD4hwFqERwM"
      }
    },
    {
      "cell_type": "code",
      "source": [
        "num = input(\"Enter number : \")\n",
        "sum = 0\n",
        "n = len(num)\n",
        "for dig in num:\n",
        "  sum+=int(dig)**n\n",
        "if str(sum) == num:\n",
        "  print(\"Armstrong Number\")\n",
        "else:\n",
        "  print(\"Not Armstrong Number\")"
      ],
      "metadata": {
        "colab": {
          "base_uri": "https://localhost:8080/"
        },
        "id": "8Bi39vE3ET3R",
        "outputId": "8054e61f-3f91-40f3-e3cb-84910fd79225"
      },
      "execution_count": null,
      "outputs": [
        {
          "output_type": "stream",
          "name": "stdout",
          "text": [
            "Enter number : 1634\n",
            "Armstrong Number\n"
          ]
        }
      ]
    },
    {
      "cell_type": "markdown",
      "source": [
        "**Question 22:**\n",
        "\n",
        "Convert Decimal to binary (Without inbuilt function)\n"
      ],
      "metadata": {
        "id": "q9F1yYb-IYKu"
      }
    },
    {
      "cell_type": "code",
      "source": [
        "num = int(input(\"Enter number : \"))\n",
        "val = 0\n",
        "while(num!=0):\n",
        "  val = val + num%2\n",
        "  num = num//2\n",
        "  val = val * 10\n",
        "print(val)"
      ],
      "metadata": {
        "colab": {
          "base_uri": "https://localhost:8080/"
        },
        "id": "GU8_5HAcGHzk",
        "outputId": "4b0ea892-8204-4d5e-f438-f062e8d86d48"
      },
      "execution_count": null,
      "outputs": [
        {
          "output_type": "stream",
          "name": "stdout",
          "text": [
            "Enter number : 14\n",
            "1110\n"
          ]
        }
      ]
    },
    {
      "cell_type": "markdown",
      "source": [
        "**Question 23:**\n",
        "\n",
        "Find whether the given number is perfect number or not.\n",
        "Any number can be perfect number in Python, if the sum of its positive divisors excluding the number itself is equal to that number.\n",
        "\n",
        "For example, 6 is a perfect number in Python because 6 is divisible by 1, 2, 3 and 6.\n",
        "So, the sum of these values are: 1+2+3 = 6 (Remember, we have to exclude the number itself.\n",
        "That’s why we haven’t added 6 here). Some of the perfect numbers are 6, 28, 496, 8128 and 33550336 so on.\n"
      ],
      "metadata": {
        "id": "hi6QaOh-O3cq"
      }
    },
    {
      "cell_type": "code",
      "source": [
        "num = int(input(\"Enter number : \"))\n",
        "factors = []\n",
        "def get_factors(x):\n",
        "   print(\"The factors of\",x,\"are:\")\n",
        "   for i in range(1, x + 1):\n",
        "       if x % i == 0:\n",
        "           print(i,end = \" \")\n",
        "           factors.append(i)\n",
        "   print()\n",
        "\n",
        "get_factors(num)\n",
        "if sum(factors[:-1]) == factors[-1]:\n",
        "  print(\"Perfect Number\")\n",
        "else:\n",
        "  print(\"Not Perfect\")"
      ],
      "metadata": {
        "colab": {
          "base_uri": "https://localhost:8080/"
        },
        "id": "xBLoeefLO5lJ",
        "outputId": "39076c47-38c9-438a-b10c-b476758264b7"
      },
      "execution_count": 1,
      "outputs": [
        {
          "output_type": "stream",
          "name": "stdout",
          "text": [
            "Enter number : 28\n",
            "The factors of 28 are:\n",
            "1 2 4 7 14 28 \n",
            "Perfect Number\n"
          ]
        }
      ]
    }
  ]
}